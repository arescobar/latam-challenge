{
 "cells": [
  {
   "cell_type": "markdown",
   "metadata": {},
   "source": [
    "En este archivo puedes escribir lo que estimes conveniente. Te recomendamos detallar tu solución y todas las suposiciones que estás considerando. Aquí puedes ejecutar las funciones que definiste en los otros archivos de la carpeta src, medir el tiempo, memoria, etc."
   ]
  },
  {
   "cell_type": "code",
   "execution_count": 2,
   "metadata": {},
   "outputs": [
    {
     "name": "stdout",
     "output_type": "stream",
     "text": [
      "¡Bienvenidos a los LATAM Choice Awards 2021!\n",
      "(aplausos)\n",
      "El día de hoy vamos a entregar los premios a nuestros empleados más twitteros de la oficina.\n",
      "Aquellos empleados que hasta el cansancio han compartido twitters promocionando a nuestra aerolínea.\n",
      "...(ocurren números artísticos)\n"
     ]
    }
   ],
   "source": [
    "print('¡Bienvenidos a los LATAM Choice Awards 2021!')\n",
    "print('(aplausos)')\n",
    "print('El día de hoy vamos a entregar los premios a nuestros empleados más twitteros de la oficina.')\n",
    "print('Aquellos empleados que hasta el cansancio han compartido twitters promocionando a nuestra aerolínea.')\n",
    "print('...(ocurren números artísticos)')"
   ]
  },
  {
   "cell_type": "code",
   "execution_count": 4,
   "metadata": {},
   "outputs": [],
   "source": [
    "file_path = \"farmers-protest-tweets-2021-2-4.json\""
   ]
  },
  {
   "cell_type": "markdown",
   "metadata": {},
   "source": [
    "## Función q1\n",
    "---"
   ]
  },
  {
   "cell_type": "markdown",
   "metadata": {},
   "source": [
    "### q1_time"
   ]
  },
  {
   "cell_type": "code",
   "execution_count": 3,
   "metadata": {},
   "outputs": [
    {
     "name": "stderr",
     "output_type": "stream",
     "text": [
      "24/10/03 15:07:39 WARN Utils: Your hostname, MacBook-Pro-de-Aracelli.local resolves to a loopback address: 127.0.0.1; using 192.168.0.8 instead (on interface en0)\n",
      "24/10/03 15:07:39 WARN Utils: Set SPARK_LOCAL_IP if you need to bind to another address\n",
      "Setting default log level to \"WARN\".\n",
      "To adjust logging level use sc.setLogLevel(newLevel). For SparkR, use setLogLevel(newLevel).\n",
      "24/10/03 15:07:40 WARN NativeCodeLoader: Unable to load native-hadoop library for your platform... using builtin-java classes where applicable\n",
      "                                                                                \r"
     ]
    },
    {
     "name": "stdout",
     "output_type": "stream",
     "text": [
      "Y a continuación... Las fechas donde más twittearon y quien más twitteó, son: \n",
      "El 2021-02-12, donde el usuario rebelpacifist destacó con sus tweets.\n",
      "El 2021-02-13, donde el usuario MaanDee08215437 destacó con sus tweets.\n",
      "El 2021-02-14, donde el usuario Gurpreetd86 destacó con sus tweets.\n",
      "El 2021-02-15, donde el usuario jot__b destacó con sus tweets.\n",
      "El 2021-02-16, donde el usuario jot__b destacó con sus tweets.\n",
      "El 2021-02-17, donde el usuario RaaJVinderkaur destacó con sus tweets.\n",
      "El 2021-02-18, donde el usuario neetuanjle_nitu destacó con sus tweets.\n",
      "El 2021-02-19, donde el usuario Preetm91 destacó con sus tweets.\n",
      "El 2021-02-20, donde el usuario MangalJ23056160 destacó con sus tweets.\n",
      "El 2021-02-23, donde el usuario preetysaini321 destacó con sus tweets.\n",
      "Un enorme aplauso para estos usuarios.\n"
     ]
    }
   ],
   "source": [
    "from q1_time import q1_time\n",
    "\n",
    "users_q1_time = q1_time(file_path)\n",
    "print(\"Y a continuación... Las fechas donde más twittearon y quien más twitteó, son: \")\n",
    "for element in users_q1_time:\n",
    "    print(f\"El {element[0]}, donde el usuario {element[1]} destacó con sus tweets.\")\n",
    "print('Un enorme aplauso para estos usuarios.')"
   ]
  },
  {
   "cell_type": "markdown",
   "metadata": {},
   "source": [
    "### q1_memory"
   ]
  },
  {
   "cell_type": "code",
   "execution_count": 4,
   "metadata": {},
   "outputs": [
    {
     "name": "stderr",
     "output_type": "stream",
     "text": [
      "                                                                                \r"
     ]
    },
    {
     "name": "stdout",
     "output_type": "stream",
     "text": [
      "Filename: /Users/aracelliescobar/Desktop/latam-challenge/src/q1_memory.py\n",
      "\n",
      "Line #    Mem usage    Increment  Occurrences   Line Contents\n",
      "=============================================================\n",
      "    11     55.0 MiB     55.0 MiB           1   @profile\n",
      "    12                                         def q1_memory(file_path: str) -> List[Tuple[datetime.date, str]]:\n",
      "    13                                             \n",
      "    14                                             # Se inicia la sesión en pyspark \n",
      "    15     55.3 MiB      0.3 MiB           1       spark = SparkSession.builder.appName(\"LatamChallenge\").getOrCreate()\n",
      "    16                                         \n",
      "    17                                                 # Se leen solo las columnas necesarias para reducir el uso de memoria\n",
      "    18     55.3 MiB      0.0 MiB           1       try:\n",
      "    19     55.3 MiB     -0.0 MiB           1           data = spark.read.json(file_path).select('date', 'user.username')\n",
      "    20                                             except (FileNotFoundError, IOError) as e:\n",
      "    21                                                 print(f'Error while handling file: {e}')\n",
      "    22                                             # Se convierte la columna 'date' a solo la fecha\n",
      "    23     55.3 MiB      0.0 MiB           1       data = data.withColumn('created_at_date', date_format(col('date'), 'yyyy-MM-dd'))\n",
      "    24                                             # Se agrupa por fecha y usuario para contar los tweets de cada usuario por día\n",
      "    25     55.5 MiB      0.1 MiB           1       tweet_counts = data.groupBy('created_at_date', 'username').agg(count('*').alias('tweet_count'))\n",
      "    26                                         \n",
      "    27                                             # Se define una ventana para obtener el usuario con más tweets por fecha\n",
      "    28     55.5 MiB      0.0 MiB           1       window = Window.partitionBy('created_at_date').orderBy(col('tweet_count').desc())\n",
      "    29                                         \n",
      "    30                                             # Se añade una columna de ranking para identificar el usuario con más tweets por cada fecha\n",
      "    31     55.5 MiB      0.0 MiB           1       ranked_data = tweet_counts.withColumn('rank', row_number().over(window))\n",
      "    32                                         \n",
      "    33                                             # Se filtran para quedarnos solo con el usuario que tiene más tweets por cada fecha\n",
      "    34     55.6 MiB      0.0 MiB           1       top_users_per_date = ranked_data.filter(col('rank') == 1).select('created_at_date', 'username')\n",
      "    35                                         \n",
      "    36                                             # Se cuenta el total de tweets por fecha y se ordenan para obtener las 10 fechas con más tweets\n",
      "    37     70.8 MiB     15.2 MiB           1       top_dates = data.groupBy('created_at_date').agg(count('*').alias('total_tweets')).orderBy(col('total_tweets').desc()).limit(10)\n",
      "    38                                         \n",
      "    39                                             # Se unen las tablas para obtener los usuarios correspondientes a esas fechas\n",
      "    40     70.8 MiB      0.0 MiB           2       top_result = top_dates.join(top_users_per_date, on='created_at_date', how='inner') \\\n",
      "    41     70.8 MiB      0.0 MiB           1                             .select('created_at_date', 'username')\n",
      "    42                                         \n",
      "    43                                             # Se retorna una tupla con el resultado\n",
      "    44     66.0 MiB     -4.8 MiB          13       result_list = [(row['created_at_date'], row['username']) for row in top_result.collect()]\n",
      "    45     66.0 MiB      0.0 MiB           1       return result_list\n",
      "\n",
      "\n",
      "Y repito. Los destacados por ser quienes más twittearon son: \n",
      "El 2021-02-12, donde el usuario rebelpacifist destacó con sus tweets.\n",
      "El 2021-02-13, donde el usuario MaanDee08215437 destacó con sus tweets.\n",
      "El 2021-02-14, donde el usuario Gurpreetd86 destacó con sus tweets.\n",
      "El 2021-02-15, donde el usuario jot__b destacó con sus tweets.\n",
      "El 2021-02-16, donde el usuario jot__b destacó con sus tweets.\n",
      "El 2021-02-17, donde el usuario RaaJVinderkaur destacó con sus tweets.\n",
      "El 2021-02-18, donde el usuario neetuanjle_nitu destacó con sus tweets.\n",
      "El 2021-02-19, donde el usuario Preetm91 destacó con sus tweets.\n",
      "El 2021-02-20, donde el usuario MangalJ23056160 destacó con sus tweets.\n",
      "El 2021-02-23, donde el usuario preetysaini321 destacó con sus tweets.\n",
      "Démosle un aplauso más a estos usuarios.\n"
     ]
    }
   ],
   "source": [
    "from q1_memory import q1_memory\n",
    "\n",
    "users_q1_memory = q1_memory(file_path)\n",
    "print(\"Y repito. Los destacados por ser quienes más twittearon son: \")\n",
    "for element in users_q1_memory:\n",
    "    print(f\"El {element[0]}, donde el usuario {element[1]} destacó con sus tweets.\")\n",
    "print('Démosle un aplauso más a estos usuarios.')"
   ]
  },
  {
   "cell_type": "markdown",
   "metadata": {},
   "source": [
    "## Función q2\n",
    "---"
   ]
  },
  {
   "cell_type": "markdown",
   "metadata": {},
   "source": [
    "### q2_time"
   ]
  },
  {
   "cell_type": "code",
   "execution_count": 5,
   "metadata": {},
   "outputs": [
    {
     "name": "stdout",
     "output_type": "stream",
     "text": [
      "Aquí, también, se pueden visualizar los emojis en tendencia que se utilizaron en Twitter este año.\n"
     ]
    }
   ],
   "source": [
    "print('Aquí, también, se pueden visualizar los emojis en tendencia que se utilizaron en Twitter este año.')"
   ]
  },
  {
   "cell_type": "code",
   "execution_count": 6,
   "metadata": {},
   "outputs": [
    {
     "name": "stderr",
     "output_type": "stream",
     "text": [
      "/Users/aracelliescobar/Library/Python/3.9/lib/python/site-packages/pyspark/python/lib/pyspark.zip/pyspark/shuffle.py:65: UserWarning: Please install psutil to have better support with spilling\n",
      "  warnings.warn(\"Please install psutil to have better \" \"support with spilling\")\n",
      "/Users/aracelliescobar/Library/Python/3.9/lib/python/site-packages/pyspark/python/lib/pyspark.zip/pyspark/shuffle.py:65: UserWarning: Please install psutil to have better support with spilling\n",
      "  warnings.warn(\"Please install psutil to have better \" \"support with spilling\")\n",
      "/Users/aracelliescobar/Library/Python/3.9/lib/python/site-packages/pyspark/python/lib/pyspark.zip/pyspark/shuffle.py:65: UserWarning: Please install psutil to have better support with spilling\n",
      "  warnings.warn(\"Please install psutil to have better \" \"support with spilling\")\n",
      "/Users/aracelliescobar/Library/Python/3.9/lib/python/site-packages/pyspark/python/lib/pyspark.zip/pyspark/shuffle.py:65: UserWarning: Please install psutil to have better support with spilling\n",
      "  warnings.warn(\"Please install psutil to have better \" \"support with spilling\")\n",
      "/Users/aracelliescobar/Library/Python/3.9/lib/python/site-packages/pyspark/python/lib/pyspark.zip/pyspark/shuffle.py:65: UserWarning: Please install psutil to have better support with spilling\n",
      "  warnings.warn(\"Please install psutil to have better \" \"support with spilling\")\n",
      "/Users/aracelliescobar/Library/Python/3.9/lib/python/site-packages/pyspark/python/lib/pyspark.zip/pyspark/shuffle.py:65: UserWarning: Please install psutil to have better support with spilling\n",
      "  warnings.warn(\"Please install psutil to have better \" \"support with spilling\")\n",
      "/Users/aracelliescobar/Library/Python/3.9/lib/python/site-packages/pyspark/python/lib/pyspark.zip/pyspark/shuffle.py:65: UserWarning: Please install psutil to have better support with spilling\n",
      "  warnings.warn(\"Please install psutil to have better \" \"support with spilling\")\n",
      "/Users/aracelliescobar/Library/Python/3.9/lib/python/site-packages/pyspark/python/lib/pyspark.zip/pyspark/shuffle.py:65: UserWarning: Please install psutil to have better support with spilling\n",
      "  warnings.warn(\"Please install psutil to have better \" \"support with spilling\")\n"
     ]
    },
    {
     "name": "stdout",
     "output_type": "stream",
     "text": [
      "🙏 que se utilizó 2123 veces.\n",
      "😂 que se utilizó 633 veces.\n",
      "🌾 que se utilizó 605 veces.\n",
      "💚 que se utilizó 533 veces.\n",
      "👍 que se utilizó 471 veces.\n",
      "👉 que se utilizó 450 veces.\n",
      "🇮🇳 que se utilizó 426 veces.\n",
      "🙏🙏 que se utilizó 403 veces.\n",
      "👇 que se utilizó 390 veces.\n",
      "🏽 que se utilizó 332 veces.\n"
     ]
    },
    {
     "name": "stderr",
     "output_type": "stream",
     "text": [
      "                                                                                \r"
     ]
    }
   ],
   "source": [
    "from q2_time import q2_time\n",
    "\n",
    "top_emojis_time = q2_time(file_path)\n",
    "for emoji in top_emojis_time:\n",
    "    print(f\"{emoji[0]} que se utilizó {emoji[1]} veces.\")"
   ]
  },
  {
   "cell_type": "markdown",
   "metadata": {},
   "source": [
    "### q2_memory"
   ]
  },
  {
   "cell_type": "code",
   "execution_count": 5,
   "metadata": {},
   "outputs": [
    {
     "name": "stderr",
     "output_type": "stream",
     "text": [
      "/Users/aracelliescobar/Library/Python/3.9/lib/python/site-packages/pyspark/python/lib/pyspark.zip/pyspark/shuffle.py:65: UserWarning: Please install psutil to have better support with spilling\n",
      "  warnings.warn(\"Please install psutil to have better \" \"support with spilling\")\n",
      "/Users/aracelliescobar/Library/Python/3.9/lib/python/site-packages/pyspark/python/lib/pyspark.zip/pyspark/shuffle.py:65: UserWarning: Please install psutil to have better support with spilling\n",
      "  warnings.warn(\"Please install psutil to have better \" \"support with spilling\")\n",
      "/Users/aracelliescobar/Library/Python/3.9/lib/python/site-packages/pyspark/python/lib/pyspark.zip/pyspark/shuffle.py:65: UserWarning: Please install psutil to have better support with spilling\n",
      "  warnings.warn(\"Please install psutil to have better \" \"support with spilling\")\n",
      "/Users/aracelliescobar/Library/Python/3.9/lib/python/site-packages/pyspark/python/lib/pyspark.zip/pyspark/shuffle.py:65: UserWarning: Please install psutil to have better support with spilling\n",
      "  warnings.warn(\"Please install psutil to have better \" \"support with spilling\")\n",
      "/Users/aracelliescobar/Library/Python/3.9/lib/python/site-packages/pyspark/python/lib/pyspark.zip/pyspark/shuffle.py:65: UserWarning: Please install psutil to have better support with spilling\n",
      "  warnings.warn(\"Please install psutil to have better \" \"support with spilling\")\n",
      "/Users/aracelliescobar/Library/Python/3.9/lib/python/site-packages/pyspark/python/lib/pyspark.zip/pyspark/shuffle.py:65: UserWarning: Please install psutil to have better support with spilling\n",
      "  warnings.warn(\"Please install psutil to have better \" \"support with spilling\")\n",
      "/Users/aracelliescobar/Library/Python/3.9/lib/python/site-packages/pyspark/python/lib/pyspark.zip/pyspark/shuffle.py:65: UserWarning: Please install psutil to have better support with spilling\n",
      "  warnings.warn(\"Please install psutil to have better \" \"support with spilling\")\n",
      "/Users/aracelliescobar/Library/Python/3.9/lib/python/site-packages/pyspark/python/lib/pyspark.zip/pyspark/shuffle.py:65: UserWarning: Please install psutil to have better support with spilling\n",
      "  warnings.warn(\"Please install psutil to have better \" \"support with spilling\")\n",
      "[Stage 7:=======>                                                   (1 + 7) / 8]\r"
     ]
    },
    {
     "name": "stdout",
     "output_type": "stream",
     "text": [
      "Filename: /Users/aracelliescobar/Desktop/latam-challenge/src/q2_memory.py\n",
      "\n",
      "Line #    Mem usage    Increment  Occurrences   Line Contents\n",
      "=============================================================\n",
      "    10                                         def extract_emojis(text):\n",
      "    11                                             # Función para extraer los emojis de los tweets\n",
      "    12                                             emoji_pattern = re.compile(\"[\"\n",
      "    13                                                                    u\"\\U0001F600-\\U0001F64F\"  # emoticonos\n",
      "    14                                                                    u\"\\U0001F300-\\U0001F5FF\"  # símbolos y pictogramas\n",
      "    15                                                                    u\"\\U0001F680-\\U0001F6FF\"  # transportes y símbolos\n",
      "    16                                                                    u\"\\U0001F1E0-\\U0001F1FF\"  # banderas\n",
      "    17                                                                    \"]+\", flags=re.UNICODE)\n",
      "    18                                             return emoji_pattern.findall(text)\n",
      "\n",
      "\n",
      "🙏 que se utilizó 2123 veces.\n",
      "😂 que se utilizó 633 veces.\n",
      "🌾 que se utilizó 605 veces.\n",
      "💚 que se utilizó 533 veces.\n",
      "👍 que se utilizó 471 veces.\n",
      "👉 que se utilizó 450 veces.\n",
      "🇮🇳 que se utilizó 426 veces.\n",
      "🙏🙏 que se utilizó 403 veces.\n",
      "👇 que se utilizó 390 veces.\n",
      "🏽 que se utilizó 332 veces.\n"
     ]
    },
    {
     "name": "stderr",
     "output_type": "stream",
     "text": [
      "                                                                                \r"
     ]
    }
   ],
   "source": [
    "from q2_memory import q2_memory\n",
    "\n",
    "top_emojis_memory = q2_memory(file_path)\n",
    "for emoji in top_emojis_memory:\n",
    "    print(f\"{emoji[0]} que se utilizó {emoji[1]} veces.\")\n"
   ]
  },
  {
   "cell_type": "markdown",
   "metadata": {},
   "source": [
    "## Función q3\n",
    "---"
   ]
  },
  {
   "cell_type": "markdown",
   "metadata": {},
   "source": [
    "### q3_time"
   ]
  },
  {
   "cell_type": "code",
   "execution_count": 27,
   "metadata": {},
   "outputs": [
    {
     "name": "stdout",
     "output_type": "stream",
     "text": [
      "Continuamos con el top 10 histórico de usuarios más influyentes en función del conteo de las menciones (@) que registra cada uno de ellos.\n"
     ]
    }
   ],
   "source": [
    "print(\"Continuamos con el top 10 histórico de usuarios más influyentes en función del conteo de las menciones (@) que registra cada uno de ellos.\")"
   ]
  },
  {
   "cell_type": "code",
   "execution_count": 33,
   "metadata": {},
   "outputs": [
    {
     "name": "stderr",
     "output_type": "stream",
     "text": [
      "[Stage 96:>                                                         (0 + 8) / 8]\r"
     ]
    },
    {
     "name": "stdout",
     "output_type": "stream",
     "text": [
      "¡El usuario narendramodi fue mencionado 2265 veces!\n",
      "¡El usuario Kisanektamorcha fue mencionado 1840 veces!\n",
      "¡El usuario RakeshTikaitBKU fue mencionado 1644 veces!\n",
      "¡El usuario PMOIndia fue mencionado 1427 veces!\n",
      "¡El usuario RahulGandhi fue mencionado 1146 veces!\n",
      "¡El usuario GretaThunberg fue mencionado 1048 veces!\n",
      "¡El usuario RaviSinghKA fue mencionado 1019 veces!\n",
      "¡El usuario rihanna fue mencionado 986 veces!\n",
      "¡El usuario UNHumanRights fue mencionado 962 veces!\n",
      "¡El usuario meenaharris fue mencionado 926 veces!\n"
     ]
    },
    {
     "name": "stderr",
     "output_type": "stream",
     "text": [
      "                                                                                \r"
     ]
    }
   ],
   "source": [
    "from q3_time import q3_time\n",
    "\n",
    "top_mentions_time = q3_time(file_path)\n",
    "for user_mention in top_mentions_time:\n",
    "    print(f'¡El usuario {user_mention[0]} fue mencionado {user_mention[1]} veces!')"
   ]
  },
  {
   "cell_type": "markdown",
   "metadata": {},
   "source": [
    "### q3_memory"
   ]
  },
  {
   "cell_type": "code",
   "execution_count": 34,
   "metadata": {},
   "outputs": [
    {
     "name": "stderr",
     "output_type": "stream",
     "text": [
      "                                                                                \r"
     ]
    },
    {
     "name": "stdout",
     "output_type": "stream",
     "text": [
      "¡El usuario narendramodi fue mencionado 2265 veces!\n",
      "¡El usuario Kisanektamorcha fue mencionado 1840 veces!\n",
      "¡El usuario RakeshTikaitBKU fue mencionado 1644 veces!\n",
      "¡El usuario PMOIndia fue mencionado 1427 veces!\n",
      "¡El usuario RahulGandhi fue mencionado 1146 veces!\n",
      "¡El usuario GretaThunberg fue mencionado 1048 veces!\n",
      "¡El usuario RaviSinghKA fue mencionado 1019 veces!\n",
      "¡El usuario rihanna fue mencionado 986 veces!\n",
      "¡El usuario UNHumanRights fue mencionado 962 veces!\n",
      "¡El usuario meenaharris fue mencionado 926 veces!\n"
     ]
    }
   ],
   "source": [
    "from q3_memory import q3_memory\n",
    "\n",
    "top_mentions_memory = q3_memory(file_path)\n",
    "for user_mention in top_mentions_memory:\n",
    "    print(f'¡El usuario {user_mention[0]} fue mencionado {user_mention[1]} veces!')"
   ]
  },
  {
   "cell_type": "code",
   "execution_count": 35,
   "metadata": {},
   "outputs": [
    {
     "name": "stdout",
     "output_type": "stream",
     "text": [
      "¡Qué increíbles son! ¡Un gran aplauso para nuestros usuarios más influencers!\n"
     ]
    }
   ],
   "source": [
    "print('¡Qué increíbles son! ¡Un gran aplauso para nuestros usuarios más influencers!')"
   ]
  },
  {
   "cell_type": "code",
   "execution_count": 36,
   "metadata": {},
   "outputs": [
    {
     "name": "stdout",
     "output_type": "stream",
     "text": [
      "Y con esto nos despedimos de esta edición de los Latam Choice Awards 2021. Muchas gracias por asistir y nos vemos el próximo año.\n"
     ]
    }
   ],
   "source": [
    "print(\"Y con esto nos despedimos de esta edición de los Latam Choice Awards 2021. Muchas gracias por asistir y nos vemos el próximo año.\")"
   ]
  }
 ],
 "metadata": {
  "kernelspec": {
   "display_name": "Python 3",
   "language": "python",
   "name": "python3"
  },
  "language_info": {
   "codemirror_mode": {
    "name": "ipython",
    "version": 3
   },
   "file_extension": ".py",
   "mimetype": "text/x-python",
   "name": "python",
   "nbconvert_exporter": "python",
   "pygments_lexer": "ipython3",
   "version": "3.9.6"
  },
  "orig_nbformat": 4
 },
 "nbformat": 4,
 "nbformat_minor": 2
}
