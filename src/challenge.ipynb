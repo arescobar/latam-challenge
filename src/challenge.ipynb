{
 "cells": [
  {
   "cell_type": "markdown",
   "metadata": {},
   "source": [
    "En este archivo puedes escribir lo que estimes conveniente. Te recomendamos detallar tu solución y todas las suposiciones que estás considerando. Aquí puedes ejecutar las funciones que definiste en los otros archivos de la carpeta src, medir el tiempo, memoria, etc."
   ]
  },
  {
   "cell_type": "code",
   "execution_count": 4,
   "metadata": {},
   "outputs": [],
   "source": [
    "file_path = \"farmers-protest-tweets-2021-2-4.json\""
   ]
  },
  {
   "cell_type": "code",
   "execution_count": 12,
   "metadata": {},
   "outputs": [
    {
     "name": "stdout",
     "output_type": "stream",
     "text": [
      "¡Bienvenidos a los LATAM Choice Awards!\n",
      "(aplausos)\n",
      "El día de hoy vamos a entregar los premios a nuestros empleados más twitteros de la oficina.\n",
      "Aquellos empleados que hasta el cansancio han compartido twitters promocionando a nuestra aerolínea.\n",
      "...(ocurren números artísticos)\n"
     ]
    }
   ],
   "source": [
    "print('¡Bienvenidos a los LATAM Choice Awards!') \n",
    "print('(aplausos)')\n",
    "print('El día de hoy vamos a entregar los premios a nuestros empleados más twitteros de la oficina.')\n",
    "print('Aquellos empleados que hasta el cansancio han compartido twitters promocionando a nuestra aerolínea.')\n",
    "print('...(ocurren números artísticos)')"
   ]
  },
  {
   "cell_type": "code",
   "execution_count": 7,
   "metadata": {},
   "outputs": [
    {
     "name": "stderr",
     "output_type": "stream",
     "text": [
      "                                                                                \r"
     ]
    },
    {
     "name": "stdout",
     "output_type": "stream",
     "text": [
      "Y a continuación... Las fechas donde más twittearon y quien más twitteo son: \n",
      "El 2021-02-12, donde el usuario rebelpacifist destacó con sus tweets.\n",
      "El 2021-02-13, donde el usuario MaanDee08215437 destacó con sus tweets.\n",
      "El 2021-02-14, donde el usuario Gurpreetd86 destacó con sus tweets.\n",
      "El 2021-02-15, donde el usuario jot__b destacó con sus tweets.\n",
      "El 2021-02-16, donde el usuario jot__b destacó con sus tweets.\n",
      "El 2021-02-17, donde el usuario RaaJVinderkaur destacó con sus tweets.\n",
      "El 2021-02-18, donde el usuario neetuanjle_nitu destacó con sus tweets.\n",
      "El 2021-02-19, donde el usuario Preetm91 destacó con sus tweets.\n",
      "El 2021-02-20, donde el usuario MangalJ23056160 destacó con sus tweets.\n",
      "El 2021-02-23, donde el usuario preetysaini321 destacó con sus tweets.\n",
      "Un enorme aplauso para estos usuarios.\n"
     ]
    }
   ],
   "source": [
    "from q1_time import q1_time\n",
    "\n",
    "tweets_list = q1_time(file_path)\n",
    "print(\"Y a continuación... Las fechas donde más twittearon y quien más twitteo son: \")\n",
    "\n",
    "for element in tweets_list:\n",
    "    print(f\"El {element[0]}, donde el usuario {element[1]} destacó con sus tweets.\")\n",
    "\n",
    "print('Un enorme aplauso para estos usuarios.')"
   ]
  }
 ],
 "metadata": {
  "kernelspec": {
   "display_name": "Python 3",
   "language": "python",
   "name": "python3"
  },
  "language_info": {
   "codemirror_mode": {
    "name": "ipython",
    "version": 3
   },
   "file_extension": ".py",
   "mimetype": "text/x-python",
   "name": "python",
   "nbconvert_exporter": "python",
   "pygments_lexer": "ipython3",
   "version": "3.9.6"
  },
  "orig_nbformat": 4
 },
 "nbformat": 4,
 "nbformat_minor": 2
}
