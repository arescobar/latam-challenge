{
 "cells": [
  {
   "cell_type": "markdown",
   "metadata": {},
   "source": [
    "En este archivo puedes escribir lo que estimes conveniente. Te recomendamos detallar tu solución y todas las suposiciones que estás considerando. Aquí puedes ejecutar las funciones que definiste en los otros archivos de la carpeta src, medir el tiempo, memoria, etc."
   ]
  },
  {
   "cell_type": "code",
   "execution_count": 17,
   "metadata": {},
   "outputs": [
    {
     "name": "stdout",
     "output_type": "stream",
     "text": [
      "¡Bienvenidos a los LATAM Choice Awards 2021!\n",
      "(aplausos)\n",
      "El día de hoy vamos a entregar los premios a nuestros empleados más twitteros de la oficina.\n",
      "Aquellos empleados que hasta el cansancio han compartido twitters promocionando a nuestra aerolínea.\n",
      "...(ocurren números artísticos)\n"
     ]
    }
   ],
   "source": [
    "print('¡Bienvenidos a los LATAM Choice Awards 2021!')\n",
    "print('(aplausos)')\n",
    "print('El día de hoy vamos a entregar los premios a nuestros empleados más twitteros de la oficina.')\n",
    "print('Aquellos empleados que hasta el cansancio han compartido twitters promocionando a nuestra aerolínea.')\n",
    "print('...(ocurren números artísticos)')"
   ]
  },
  {
   "cell_type": "code",
   "execution_count": 12,
   "metadata": {},
   "outputs": [],
   "source": [
    "file_path = \"farmers-protest-tweets-2021-2-4.json\""
   ]
  },
  {
   "cell_type": "markdown",
   "metadata": {},
   "source": [
    "## Función q1\n",
    "---"
   ]
  },
  {
   "cell_type": "markdown",
   "metadata": {},
   "source": [
    "### q1_time"
   ]
  },
  {
   "cell_type": "code",
   "execution_count": 21,
   "metadata": {},
   "outputs": [
    {
     "name": "stderr",
     "output_type": "stream",
     "text": [
      "                                                                                \r"
     ]
    },
    {
     "name": "stdout",
     "output_type": "stream",
     "text": [
      "Y a continuación... Las fechas donde más twittearon y quien más twitteó, son: \n",
      "El 2021-02-12, donde el usuario rebelpacifist destacó con sus tweets.\n",
      "El 2021-02-13, donde el usuario MaanDee08215437 destacó con sus tweets.\n",
      "El 2021-02-14, donde el usuario Gurpreetd86 destacó con sus tweets.\n",
      "El 2021-02-15, donde el usuario jot__b destacó con sus tweets.\n",
      "El 2021-02-16, donde el usuario jot__b destacó con sus tweets.\n",
      "El 2021-02-17, donde el usuario RaaJVinderkaur destacó con sus tweets.\n",
      "El 2021-02-18, donde el usuario neetuanjle_nitu destacó con sus tweets.\n",
      "El 2021-02-19, donde el usuario Preetm91 destacó con sus tweets.\n",
      "El 2021-02-20, donde el usuario MangalJ23056160 destacó con sus tweets.\n",
      "El 2021-02-23, donde el usuario preetysaini321 destacó con sus tweets.\n",
      "Un enorme aplauso para estos usuarios.\n"
     ]
    }
   ],
   "source": [
    "from q1_time import q1_time\n",
    "\n",
    "users_q1_time = q1_time(file_path)\n",
    "print(\"Y a continuación... Las fechas donde más twittearon y quien más twitteó, son: \")\n",
    "for element in users_q1_time:\n",
    "    print(f\"El {element[0]}, donde el usuario {element[1]} destacó con sus tweets.\")\n",
    "print('Un enorme aplauso para estos usuarios.')"
   ]
  },
  {
   "cell_type": "markdown",
   "metadata": {},
   "source": [
    "### q1_memory"
   ]
  },
  {
   "cell_type": "code",
   "execution_count": 38,
   "metadata": {},
   "outputs": [
    {
     "name": "stderr",
     "output_type": "stream",
     "text": [
      "                                                                                \r"
     ]
    },
    {
     "name": "stdout",
     "output_type": "stream",
     "text": [
      "Y repito. Los destacados por ser quienes más twittearon son: \n",
      "El 2021-02-12, donde el usuario rebelpacifist destacó con sus tweets.\n",
      "El 2021-02-13, donde el usuario MaanDee08215437 destacó con sus tweets.\n",
      "El 2021-02-14, donde el usuario Gurpreetd86 destacó con sus tweets.\n",
      "El 2021-02-15, donde el usuario jot__b destacó con sus tweets.\n",
      "El 2021-02-16, donde el usuario jot__b destacó con sus tweets.\n",
      "El 2021-02-17, donde el usuario RaaJVinderkaur destacó con sus tweets.\n",
      "El 2021-02-18, donde el usuario neetuanjle_nitu destacó con sus tweets.\n",
      "El 2021-02-19, donde el usuario Preetm91 destacó con sus tweets.\n",
      "El 2021-02-20, donde el usuario MangalJ23056160 destacó con sus tweets.\n",
      "El 2021-02-23, donde el usuario preetysaini321 destacó con sus tweets.\n",
      "Démosle un aplauso más a estos usuarios.\n"
     ]
    }
   ],
   "source": [
    "from q1_memory import q1_memory\n",
    "\n",
    "users_q1_memory = q1_memory(file_path)\n",
    "print(\"Y repito. Los destacados por ser quienes más twittearon son: \")\n",
    "for element in users_q1_memory:\n",
    "    print(f\"El {element[0]}, donde el usuario {element[1]} destacó con sus tweets.\")\n",
    "print('Démosle un aplauso más a estos usuarios.')"
   ]
  },
  {
   "cell_type": "markdown",
   "metadata": {},
   "source": [
    "## Función q2\n",
    "---"
   ]
  },
  {
   "cell_type": "markdown",
   "metadata": {},
   "source": [
    "### q2_time"
   ]
  },
  {
   "cell_type": "code",
   "execution_count": 18,
   "metadata": {},
   "outputs": [
    {
     "name": "stdout",
     "output_type": "stream",
     "text": [
      "Se destacan, también, los emojis en tendencia que se utilizaron en Twitter este año.\n"
     ]
    }
   ],
   "source": [
    "print('Aquí, también, se pueden visualizar los emojis en tendencia que se utilizaron en Twitter este año.')"
   ]
  },
  {
   "cell_type": "code",
   "execution_count": 24,
   "metadata": {},
   "outputs": [
    {
     "name": "stderr",
     "output_type": "stream",
     "text": [
      "[Stage 66:>                                                         (0 + 8) / 8]\r"
     ]
    },
    {
     "name": "stdout",
     "output_type": "stream",
     "text": [
      "🙏 que se utilizó 2123 veces.\n",
      "😂 que se utilizó 633 veces.\n",
      "🌾 que se utilizó 605 veces.\n",
      "💚 que se utilizó 533 veces.\n",
      "👍 que se utilizó 471 veces.\n",
      "👉 que se utilizó 450 veces.\n",
      "🇮🇳 que se utilizó 426 veces.\n",
      "🙏🙏 que se utilizó 403 veces.\n",
      "👇 que se utilizó 390 veces.\n",
      "🏽 que se utilizó 332 veces.\n"
     ]
    },
    {
     "name": "stderr",
     "output_type": "stream",
     "text": [
      "                                                                                \r"
     ]
    }
   ],
   "source": [
    "from q2_time import q2_time\n",
    "\n",
    "top_emojis_time = q2_time(file_path)\n",
    "for emoji in top_emojis_time:\n",
    "    print(f\"{emoji[0]} que se utilizó {emoji[1]} veces.\")"
   ]
  },
  {
   "cell_type": "markdown",
   "metadata": {},
   "source": [
    "### q2_memory"
   ]
  },
  {
   "cell_type": "code",
   "execution_count": 25,
   "metadata": {},
   "outputs": [
    {
     "name": "stderr",
     "output_type": "stream",
     "text": [
      "[Stage 69:>                                                         (0 + 8) / 8]\r"
     ]
    },
    {
     "name": "stdout",
     "output_type": "stream",
     "text": [
      "🙏 que se utilizó 2123 veces.\n",
      "😂 que se utilizó 633 veces.\n",
      "🌾 que se utilizó 605 veces.\n",
      "💚 que se utilizó 533 veces.\n",
      "👍 que se utilizó 471 veces.\n",
      "👉 que se utilizó 450 veces.\n",
      "🇮🇳 que se utilizó 426 veces.\n",
      "🙏🙏 que se utilizó 403 veces.\n",
      "👇 que se utilizó 390 veces.\n",
      "🏽 que se utilizó 332 veces.\n"
     ]
    },
    {
     "name": "stderr",
     "output_type": "stream",
     "text": [
      "                                                                                \r"
     ]
    }
   ],
   "source": [
    "from q2_memory import q2_memory\n",
    "\n",
    "top_emojis_memory = q2_memory(file_path)\n",
    "for emoji in top_emojis_memory:\n",
    "    print(f\"{emoji[0]} que se utilizó {emoji[1]} veces.\")\n"
   ]
  },
  {
   "cell_type": "markdown",
   "metadata": {},
   "source": [
    "## Función q3\n",
    "---"
   ]
  },
  {
   "cell_type": "markdown",
   "metadata": {},
   "source": [
    "### q3_time"
   ]
  },
  {
   "cell_type": "code",
   "execution_count": 27,
   "metadata": {},
   "outputs": [
    {
     "name": "stdout",
     "output_type": "stream",
     "text": [
      "Continuamos con el top 10 histórico de usuarios más influyentes en función del conteo de las menciones (@) que registra cada uno de ellos.\n"
     ]
    }
   ],
   "source": [
    "print(\"Continuamos con el top 10 histórico de usuarios más influyentes en función del conteo de las menciones (@) que registra cada uno de ellos.\")"
   ]
  },
  {
   "cell_type": "code",
   "execution_count": 33,
   "metadata": {},
   "outputs": [
    {
     "name": "stderr",
     "output_type": "stream",
     "text": [
      "[Stage 96:>                                                         (0 + 8) / 8]\r"
     ]
    },
    {
     "name": "stdout",
     "output_type": "stream",
     "text": [
      "¡El usuario narendramodi fue mencionado 2265 veces!\n",
      "¡El usuario Kisanektamorcha fue mencionado 1840 veces!\n",
      "¡El usuario RakeshTikaitBKU fue mencionado 1644 veces!\n",
      "¡El usuario PMOIndia fue mencionado 1427 veces!\n",
      "¡El usuario RahulGandhi fue mencionado 1146 veces!\n",
      "¡El usuario GretaThunberg fue mencionado 1048 veces!\n",
      "¡El usuario RaviSinghKA fue mencionado 1019 veces!\n",
      "¡El usuario rihanna fue mencionado 986 veces!\n",
      "¡El usuario UNHumanRights fue mencionado 962 veces!\n",
      "¡El usuario meenaharris fue mencionado 926 veces!\n"
     ]
    },
    {
     "name": "stderr",
     "output_type": "stream",
     "text": [
      "                                                                                \r"
     ]
    }
   ],
   "source": [
    "from q3_time import q3_time\n",
    "\n",
    "top_mentions_time = q3_time(file_path)\n",
    "for user_mention in top_mentions_time:\n",
    "    print(f'¡El usuario {user_mention[0]} fue mencionado {user_mention[1]} veces!')"
   ]
  },
  {
   "cell_type": "markdown",
   "metadata": {},
   "source": [
    "### q3_memory"
   ]
  },
  {
   "cell_type": "code",
   "execution_count": 34,
   "metadata": {},
   "outputs": [
    {
     "name": "stderr",
     "output_type": "stream",
     "text": [
      "                                                                                \r"
     ]
    },
    {
     "name": "stdout",
     "output_type": "stream",
     "text": [
      "¡El usuario narendramodi fue mencionado 2265 veces!\n",
      "¡El usuario Kisanektamorcha fue mencionado 1840 veces!\n",
      "¡El usuario RakeshTikaitBKU fue mencionado 1644 veces!\n",
      "¡El usuario PMOIndia fue mencionado 1427 veces!\n",
      "¡El usuario RahulGandhi fue mencionado 1146 veces!\n",
      "¡El usuario GretaThunberg fue mencionado 1048 veces!\n",
      "¡El usuario RaviSinghKA fue mencionado 1019 veces!\n",
      "¡El usuario rihanna fue mencionado 986 veces!\n",
      "¡El usuario UNHumanRights fue mencionado 962 veces!\n",
      "¡El usuario meenaharris fue mencionado 926 veces!\n"
     ]
    }
   ],
   "source": [
    "from q3_memory import q3_memory\n",
    "\n",
    "top_mentions_memory = q3_memory(file_path)\n",
    "for user_mention in top_mentions_memory:\n",
    "    print(f'¡El usuario {user_mention[0]} fue mencionado {user_mention[1]} veces!')"
   ]
  },
  {
   "cell_type": "code",
   "execution_count": 35,
   "metadata": {},
   "outputs": [
    {
     "name": "stdout",
     "output_type": "stream",
     "text": [
      "¡Qué increíbles son! ¡Un gran aplauso para nuestros usuarios más influencers!\n"
     ]
    }
   ],
   "source": [
    "print('¡Qué increíbles son! ¡Un gran aplauso para nuestros usuarios más influencers!')"
   ]
  },
  {
   "cell_type": "code",
   "execution_count": 36,
   "metadata": {},
   "outputs": [
    {
     "name": "stdout",
     "output_type": "stream",
     "text": [
      "Y con esto nos despedimos de esta edición de los Latam Choice Awards 2021. Muchas gracias por asistir y nos vemos el próximo año.\n"
     ]
    }
   ],
   "source": [
    "print(\"Y con esto nos despedimos de esta edición de los Latam Choice Awards 2021. Muchas gracias por asistir y nos vemos el próximo año.\")"
   ]
  }
 ],
 "metadata": {
  "kernelspec": {
   "display_name": "Python 3",
   "language": "python",
   "name": "python3"
  },
  "language_info": {
   "codemirror_mode": {
    "name": "ipython",
    "version": 3
   },
   "file_extension": ".py",
   "mimetype": "text/x-python",
   "name": "python",
   "nbconvert_exporter": "python",
   "pygments_lexer": "ipython3",
   "version": "3.9.6"
  },
  "orig_nbformat": 4
 },
 "nbformat": 4,
 "nbformat_minor": 2
}
